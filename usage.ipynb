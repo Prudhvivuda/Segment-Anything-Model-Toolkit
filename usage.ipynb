{
 "cells": [
  {
   "cell_type": "code",
   "execution_count": null,
   "id": "9b09c880",
   "metadata": {},
   "outputs": [],
   "source": [
    "from sam_tool import SAMTool"
   ]
  },
  {
   "cell_type": "markdown",
   "id": "7b04f957",
   "metadata": {},
   "source": [
    "# How to use it?"
   ]
  },
  {
   "cell_type": "markdown",
   "id": "16bedbd6",
   "metadata": {},
   "source": [
    "## 1. Initialize the Tool"
   ]
  },
  {
   "cell_type": "code",
   "execution_count": 2,
   "id": "c6df3412",
   "metadata": {},
   "outputs": [
    {
     "name": "stdout",
     "output_type": "stream",
     "text": [
      "Using device: mps\n",
      "Using cached checkpoint: /Users/prudhvivuda/.cache/sam/sam_vit_b_01ec64.pth\n",
      "Loading SAM vit_b model...\n",
      "✓ Model loaded successfully\n",
      "Using device: mps\n",
      "Downloading SAM vit_l checkpoint...\n",
      "This is a one-time download (~1.2GB)\n",
      "Progress: 100.0%\n",
      "✓ Downloaded to /Users/prudhvivuda/.cache/sam/sam_vit_l_0b3195.pth\n",
      "Loading SAM vit_l model...\n",
      "✓ Model loaded successfully\n"
     ]
    }
   ],
   "source": [
    "from sam_tool import SAMTool\n",
    "import cv2\n",
    "import numpy as np\n",
    "\n",
    "# Initialize with default settings (vit_b model, auto device)\n",
    "tool = SAMTool()\n",
    "\n",
    "# Or with specific configuration\n",
    "tool = SAMTool(\n",
    "    model_type=\"vit_l\",  # \"vit_b\", \"vit_l\", or \"vit_h\"\n",
    "    device=\"mps\",        # \"auto\", \"mps\", \"cuda\", or \"cpu\"\n",
    "    checkpoint_path=None # Will auto-download if None\n",
    ")"
   ]
  },
  {
   "cell_type": "markdown",
   "id": "c6754eff",
   "metadata": {},
   "source": [
    "## 2. Single Image Processing"
   ]
  },
  {
   "cell_type": "code",
   "execution_count": 3,
   "id": "c5355166",
   "metadata": {},
   "outputs": [
    {
     "data": {
      "text/plain": [
       "True"
      ]
     },
     "execution_count": 3,
     "metadata": {},
     "output_type": "execute_result"
    }
   ],
   "source": [
    "# Load and prepare image\n",
    "image = cv2.imread(\"dataset/bag.jpg\")\n",
    "image_rgb = cv2.cvtColor(image, cv2.COLOR_BGR2RGB)\n",
    "\n",
    "# Set image for processing\n",
    "tool.set_image(image_rgb)\n",
    "\n",
    "# Select object with points\n",
    "result = tool.select_with_points(\n",
    "    points=[(100, 200), (150, 250)],  # (x, y) coordinates\n",
    "    labels=[1, 1]  # 1 = positive (object), 0 = negative (background)\n",
    ")\n",
    "\n",
    "# Access the mask\n",
    "mask = result['mask']  # Boolean numpy array\n",
    "score = result['score']  # Confidence score\n",
    "bbox = result['bbox']  # [x1, y1, x2, y2]\n",
    "area = result['area']  # Number of pixels\n",
    "\n",
    "# Save the mask\n",
    "cv2.imwrite(\"mask.png\", (mask * 255).astype(np.uint8))"
   ]
  },
  {
   "cell_type": "markdown",
   "id": "4d3266ed",
   "metadata": {},
   "source": [
    "## 3. Batch Processing with Interactive Selection"
   ]
  },
  {
   "cell_type": "code",
   "execution_count": 4,
   "id": "21ff30a1",
   "metadata": {},
   "outputs": [
    {
     "name": "stdout",
     "output_type": "stream",
     "text": [
      "\n",
      "============================================================\n",
      "Starting interactive selection for 1 image(s)\n",
      "============================================================\n",
      "\n",
      "\n",
      "[1/1] Processing: fan.jpg\n",
      "\n",
      "==================================================\n",
      "INTERACTIVE SELECTION CONTROLS:\n",
      "--------------------------------------------------\n",
      "🖱️  Left Click        : Add object point (green)\n",
      "🖱️  Right Click       : Add background point (red)\n",
      "🖱️  Ctrl+Drag        : Draw bounding box\n",
      "⌨️  'a' / 'Enter'    : Accept and save current mask\n",
      "⌨️  'r'              : Reset current selection\n",
      "⌨️  'u'              : Undo last saved mask\n",
      "⌨️  's'              : Skip this image\n",
      "⌨️  'q' / 'ESC'      : Next image / Finish\n",
      "==================================================\n",
      "\n",
      "  ✓ Saved mask 1 (area: 1643495 pixels)\n",
      "✓ Saved 1 masks\n",
      "\n",
      "============================================================\n",
      "✅ Interactive selection complete!\n",
      "📊 Total masks selected: 1\n",
      "📁 Output saved to: output\n",
      "============================================================\n",
      "\n",
      "Processed 1 images\n",
      "Created 1 masks\n"
     ]
    }
   ],
   "source": [
    "# Process multiple images interactively\n",
    "results = tool.process_interactive(\n",
    "    input_path=\"dataset/fan.jpg\",  # Folder or single image\n",
    "    output_dir=\"output/\",\n",
    "    auto_skip=False  # Don't skip images with no selections\n",
    ")\n",
    "\n",
    "# Results contains:\n",
    "# - total_images: Number processed\n",
    "# - total_masks: Total masks created\n",
    "# - results: List of per-image results\n",
    "print(f\"Processed {results['total_images']} images\")\n",
    "print(f\"Created {results['total_masks']} masks\")"
   ]
  },
  {
   "cell_type": "markdown",
   "id": "5b1a35a8",
   "metadata": {},
   "source": [
    "## 4. Automatic Segmentation"
   ]
  },
  {
   "cell_type": "code",
   "execution_count": null,
   "id": "cbdf3aee",
   "metadata": {},
   "outputs": [],
   "source": [
    "# Set image first\n",
    "tool.set_image(image_rgb)\n",
    "\n",
    "# Automatically detect all objects\n",
    "masks = tool.auto_generate_masks(\n",
    "    points_per_side=32,  # Sampling density\n",
    "    pred_iou_thresh=0.88,\n",
    "    stability_score_thresh=0.95,\n",
    "    min_mask_region_area=100,  # Minimum object size\n",
    "    max_objects=10  # Limit number of objects\n",
    ")\n",
    "\n",
    "# Process each detected object\n",
    "for i, mask_data in enumerate(masks):\n",
    "    mask = mask_data['segmentation']\n",
    "    area = mask_data['area']\n",
    "    bbox = mask_data['bbox']  # [x, y, w, h] format\n",
    "    \n",
    "    # Save individual mask\n",
    "    cv2.imwrite(f\"object_{i}.png\", (mask * 255).astype(np.uint8))\n",
    "    print(f\"Object {i}: Area={area} pixels\")"
   ]
  },
  {
   "cell_type": "markdown",
   "id": "7a833014",
   "metadata": {},
   "source": [
    "## 5. Box Selection\n"
   ]
  },
  {
   "cell_type": "code",
   "execution_count": null,
   "id": "3f7009cc",
   "metadata": {},
   "outputs": [],
   "source": [
    "tool.set_image(image_rgb)\n",
    "\n",
    "# Select object within bounding box\n",
    "result = tool.select_with_box(\n",
    "    box=[100, 100, 400, 400]  # [x1, y1, x2, y2]\n",
    ")\n",
    "\n",
    "mask = result['mask']"
   ]
  },
  {
   "cell_type": "markdown",
   "id": "f5e7a9b9",
   "metadata": {},
   "source": [
    "# Export Formats"
   ]
  },
  {
   "cell_type": "markdown",
   "id": "5bc70541",
   "metadata": {},
   "source": [
    "## Export to YOLO Detection Format"
   ]
  },
  {
   "cell_type": "code",
   "execution_count": null,
   "id": "7f1f1180",
   "metadata": {},
   "outputs": [],
   "source": [
    "# After getting a mask, export to YOLO format\n",
    "tool.set_image(image_rgb)\n",
    "result = tool.select_with_points([(200, 300)])\n",
    "\n",
    "# Export single mask to YOLO detection format\n",
    "yolo_line = tool.export_to_yolo_detection(\n",
    "    mask_or_bbox=result['mask'],\n",
    "    class_id=0  # Object class\n",
    ")\n",
    "print(yolo_line)  # \"0 0.453125 0.567890 0.234375 0.345678\"\n",
    "\n",
    "# Save to file\n",
    "with open(\"labels.txt\", \"w\") as f:\n",
    "    f.write(yolo_line)"
   ]
  },
  {
   "cell_type": "markdown",
   "id": "7c67804f",
   "metadata": {},
   "source": [
    "## Export to YOLO Segmentation Format"
   ]
  },
  {
   "cell_type": "code",
   "execution_count": null,
   "id": "ba222154",
   "metadata": {},
   "outputs": [],
   "source": [
    "# Export mask as polygon for YOLO segmentation\n",
    "yolo_seg = tool.export_to_yolo_segmentation(\n",
    "    mask=result['mask'],\n",
    "    class_id=0,\n",
    "    simplify=True  # Simplify polygon\n",
    ")\n",
    "print(yolo_seg)  # \"0 0.23 0.45 0.34 0.56 ...\" (polygon points)"
   ]
  },
  {
   "cell_type": "markdown",
   "id": "1f0610f2",
   "metadata": {},
   "source": [
    "## Export to COCO RLE Format"
   ]
  },
  {
   "cell_type": "code",
   "execution_count": null,
   "id": "72293106",
   "metadata": {},
   "outputs": [],
   "source": [
    "# Export to COCO Run-Length Encoding\n",
    "rle = tool.export_to_coco_rle(result['mask'])\n",
    "print(rle['size'])  # [height, width]\n",
    "print(rle['counts'])  # RLE string"
   ]
  },
  {
   "cell_type": "markdown",
   "id": "ee178322",
   "metadata": {},
   "source": [
    "## Batch Export to YOLO"
   ]
  },
  {
   "cell_type": "code",
   "execution_count": null,
   "id": "ed00d25e",
   "metadata": {},
   "outputs": [],
   "source": [
    "# Export all masks from a processing session to YOLO format\n",
    "export_result = tool.export_masks_to_yolo(\n",
    "    masks_dir=\"output/masks\",\n",
    "    original_images_dir=\"images/\",\n",
    "    output_dir=\"yolo_dataset/\",\n",
    "    format_type=\"detection\",  # or \"segmentation\"\n",
    "    use_mask_id_as_class=True  # Different class for each mask\n",
    ")\n",
    "\n",
    "print(f\"Exported {export_result['total_labels']} labels\")\n",
    "print(f\"Number of classes: {export_result['num_classes']}\")"
   ]
  },
  {
   "cell_type": "markdown",
   "id": "b75dae49",
   "metadata": {},
   "source": []
  }
 ],
 "metadata": {
  "kernelspec": {
   "display_name": ".venv (3.11.13)",
   "language": "python",
   "name": "python3"
  },
  "language_info": {
   "codemirror_mode": {
    "name": "ipython",
    "version": 3
   },
   "file_extension": ".py",
   "mimetype": "text/x-python",
   "name": "python",
   "nbconvert_exporter": "python",
   "pygments_lexer": "ipython3",
   "version": "3.11.13"
  }
 },
 "nbformat": 4,
 "nbformat_minor": 5
}
